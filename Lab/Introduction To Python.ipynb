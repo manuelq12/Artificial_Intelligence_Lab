{
 "cells": [
  {
   "cell_type": "markdown",
   "metadata": {},
   "source": [
    "# Introduction To Python"
   ]
  },
  {
   "cell_type": "code",
   "execution_count": 5,
   "metadata": {},
   "outputs": [
    {
     "name": "stdout",
     "output_type": "stream",
     "text": [
      "['aaa,bbb,cc,dd']\n"
     ]
    }
   ],
   "source": [
    "#Split Method\n",
    "\n",
    "s = 'aaa,bbb,cc,dd'\n",
    "x = str.split(s)\n",
    "print(x)"
   ]
  },
  {
   "cell_type": "code",
   "execution_count": 7,
   "metadata": {},
   "outputs": [
    {
     "name": "stdout",
     "output_type": "stream",
     "text": [
      "spam,eggs,and,SPAM\n"
     ]
    }
   ],
   "source": [
    "#%s\n",
    "\n",
    "print(\"%s,eggs,and,%s\"%('spam',\"SPAM\"))"
   ]
  },
  {
   "cell_type": "code",
   "execution_count": 9,
   "metadata": {},
   "outputs": [
    {
     "name": "stdout",
     "output_type": "stream",
     "text": [
      "spam,eggs,and SPAM\n"
     ]
    }
   ],
   "source": [
    "#{}\n",
    "\n",
    "print(\"{},eggs,and {}\".format('spam','SPAM'))"
   ]
  },
  {
   "cell_type": "code",
   "execution_count": 22,
   "metadata": {},
   "outputs": [
    {
     "name": "stdout",
     "output_type": "stream",
     "text": [
      "[1, 4, 5, 'hello', 7, 21]\n",
      "[1, 2, 4, 10]\n",
      "[1, 5, 'hello', 7]\n"
     ]
    }
   ],
   "source": [
    "#List\n",
    "\n",
    "#Insertar Objeto\n",
    "lista = [1,4,5,\"hello\",7]\n",
    "\n",
    "lista.append(21)\n",
    "\n",
    "print(lista)\n",
    "\n",
    "#Organizar List\n",
    "\n",
    "lista2 = [10,2,4,1]\n",
    "\n",
    "lista2.sort()\n",
    "\n",
    "print (lista2)\n",
    "\n",
    "#Eliminar el valor\n",
    "\n",
    "lista3 = [1,4,5,\"hello\",7]\n",
    "\n",
    "lista3.remove(4)\n",
    "\n",
    "print(lista3)\n"
   ]
  },
  {
   "cell_type": "code",
   "execution_count": 29,
   "metadata": {},
   "outputs": [
    {
     "name": "stdout",
     "output_type": "stream",
     "text": [
      "dict_keys(['ftp', 'ssh', 'smtp', 'http'])\n",
      "dict_items([('ftp', 21), ('ssh', 22), ('smtp', 25), ('http', 80)])\n",
      "21\n",
      "{'ftp': 21, 'ssh': 22, 'smtp': 25, 'http': 80, 'list': [1, 2, 3, 4]}\n"
     ]
    }
   ],
   "source": [
    "#Dictionary\n",
    "\n",
    "services = {'ftp':21, 'ssh' : 22 , 'smtp': 25, 'http':80}\n",
    "\n",
    "#Print keys\n",
    "\n",
    "print(services.keys())\n",
    "\n",
    "#Print the items\n",
    "\n",
    "print(services.items())\n",
    "\n",
    "#Prints a value associated to a key\n",
    "\n",
    "print(services['ftp'])\n",
    "\n",
    "#Add new key and item\n",
    "\n",
    "lista = [1,2,3,4]\n",
    "\n",
    "key = \"list\"\n",
    "\n",
    "services[key] = lista\n",
    "\n",
    "print(services)"
   ]
  },
  {
   "cell_type": "code",
   "execution_count": 32,
   "metadata": {},
   "outputs": [
    {
     "name": "stdout",
     "output_type": "stream",
     "text": [
      "<class 'str'>\n"
     ]
    }
   ],
   "source": [
    "#Cast\n",
    "\n",
    "i = 5\n",
    "\n",
    "x =str(i)\n",
    "\n",
    "print(type(x))"
   ]
  },
  {
   "cell_type": "code",
   "execution_count": 37,
   "metadata": {},
   "outputs": [
    {
     "name": "stdout",
     "output_type": "stream",
     "text": [
      "[1, 2, 3, 4]\n"
     ]
    }
   ],
   "source": [
    "#Creation of Methods\n",
    "\n",
    "def append_in_list(lista,element):\n",
    "    lista.append(element)\n",
    "\n",
    "lista = [1,2,3]\n",
    "append_in_list(lista,4)\n",
    "print(lista)"
   ]
  },
  {
   "cell_type": "code",
   "execution_count": 42,
   "metadata": {},
   "outputs": [
    {
     "name": "stdout",
     "output_type": "stream",
     "text": [
      "[1, 2, 3]\n"
     ]
    }
   ],
   "source": [
    "#Multiple return in a method\n",
    "\n",
    "def k():\n",
    "    a = 1\n",
    "    b = 3\n",
    "    d = [1,2,3]\n",
    "    return a,b,d\n",
    "index,last,lista= k()\n",
    "print(lista)"
   ]
  },
  {
   "cell_type": "code",
   "execution_count": 50,
   "metadata": {},
   "outputs": [
    {
     "name": "stdout",
     "output_type": "stream",
     "text": [
      "4951\n",
      "dog/cat/mouse/\n",
      "dog\n",
      "cat\n",
      "mouse\n"
     ]
    }
   ],
   "source": [
    "#For\n",
    "\n",
    "result = 1\n",
    "\n",
    "for i in range(100):\n",
    "    result += i\n",
    "    \n",
    "print (result)\n",
    "\n",
    "#Animals\n",
    "\n",
    "animals = [\"dog\",\"cat\",\"mouse\"]\n",
    "\n",
    "for i in animals:\n",
    "    print(i,end = \"/\")\n",
    "print()\n",
    "for i in animals:\n",
    "    print(i)\n"
   ]
  },
  {
   "cell_type": "code",
   "execution_count": 54,
   "metadata": {},
   "outputs": [
    {
     "name": "stdout",
     "output_type": "stream",
     "text": [
      "Escriba su nombre:Manuel\n",
      "Manuel\n"
     ]
    }
   ],
   "source": [
    "#Input\n",
    "\n",
    "print(input(\"Escriba su nombre:\"))\n"
   ]
  }
 ],
 "metadata": {
  "kernelspec": {
   "display_name": "Python 3",
   "language": "python",
   "name": "python3"
  },
  "language_info": {
   "codemirror_mode": {
    "name": "ipython",
    "version": 3
   },
   "file_extension": ".py",
   "mimetype": "text/x-python",
   "name": "python",
   "nbconvert_exporter": "python",
   "pygments_lexer": "ipython3",
   "version": "3.7.3"
  }
 },
 "nbformat": 4,
 "nbformat_minor": 2
}
