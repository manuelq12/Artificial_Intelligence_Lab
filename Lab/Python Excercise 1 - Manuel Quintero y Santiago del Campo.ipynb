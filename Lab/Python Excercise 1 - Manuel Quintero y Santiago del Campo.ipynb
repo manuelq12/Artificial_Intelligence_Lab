{
 "cells": [
  {
   "cell_type": "markdown",
   "metadata": {},
   "source": [
    "# Python Exercises, practice\n",
    "\n",
    "Student 1: Manuel Quintero\n",
    "\n",
    "Student 2: Santiago del Campo\n",
    "\n",
    "1 exercise\n",
    "\n",
    "print hello world\n",
    "\n",
    "2 exercise\n",
    "\n",
    "Let's create a variable with the name variable and assign it the value \"hello world\".\n",
    "\n",
    "3 exercise\n",
    "\n",
    "Print the type of variable\n",
    "\n",
    "4 exercise\n",
    "\n",
    "Let's remove the word \" world\" from variable\n",
    "\n",
    "5 exercise\n",
    "\n",
    "Let's make a function which receives a list of number from 1 to 20 and prints only the number that are odd.\n",
    "\n",
    "6 exercise\n",
    "\n",
    "Let's make a method in a Python file which receives two parameters:\n",
    "\n",
    "A list of integers\n",
    "An exponent number\n",
    "$b^{n} = b \\times \\dots \\times b$\n",
    "\n",
    "The method allows us to calculate the exponentiation of each number in the list.\n",
    "\n",
    "We must import the file and use it to call the method\n",
    "\n",
    "7 exercise\n",
    "\n",
    "The idea is to do a dictionary diccionario with the next keys and values:\n",
    "\n",
    "variableUno: [1,2,3,4]\n",
    "\n",
    "variableDos: [\"1\",\"a\",\"?\"]\n",
    "\n",
    "8 exercise\n",
    "\n",
    "Change the first letter of \"Spam\" to \"z\"\n",
    "\n",
    "9 exercise\n",
    "\n",
    "let's do a program which receives some parameters in order to calculate the perimeter of a rectangle.\n",
    "\n",
    "$p = 2x + 2y$\n",
    "\n",
    "10 exercise\n",
    "\n",
    "Create a class that saves the name of a person, his height in meters and weights in kilograms.\n",
    "This class must have a operation which calculate the Body mass index (BMI).\n",
    "Define a list of 5 persons and print their BMI.\n",
    "\n",
    "11 exercise\n",
    "\n",
    "make a program that prints the numbers from 1 to 100 If the number is divisible by 2 then print \"whiz\" if the number is divisible by 3 then print \"bang\""
   ]
  },
  {
   "cell_type": "code",
   "execution_count": 1,
   "metadata": {},
   "outputs": [
    {
     "name": "stdout",
     "output_type": "stream",
     "text": [
      "hello world\n"
     ]
    }
   ],
   "source": [
    "#Exercise One\n",
    "\n",
    "print('hello world')"
   ]
  },
  {
   "cell_type": "code",
   "execution_count": 2,
   "metadata": {},
   "outputs": [],
   "source": [
    "#Exercise Two\n",
    "variable = \"hello world\""
   ]
  },
  {
   "cell_type": "code",
   "execution_count": 2,
   "metadata": {},
   "outputs": [
    {
     "name": "stdout",
     "output_type": "stream",
     "text": [
      "<class 'str'>\n"
     ]
    }
   ],
   "source": [
    "#Exercise Three\n",
    "variable = \"hello world\"\n",
    "print(type(variable))"
   ]
  },
  {
   "cell_type": "code",
   "execution_count": 6,
   "metadata": {},
   "outputs": [
    {
     "name": "stdout",
     "output_type": "stream",
     "text": [
      "hello \n"
     ]
    }
   ],
   "source": [
    "#Exercise Four\n",
    "variable = \"hello world\"\n",
    "print(variable.replace(\"world\",\"\"))\n"
   ]
  },
  {
   "cell_type": "code",
   "execution_count": 3,
   "metadata": {},
   "outputs": [
    {
     "name": "stdout",
     "output_type": "stream",
     "text": [
      "[1, 3, 5, 7, 9, 11, 13, 15, 17, 19]\n"
     ]
    }
   ],
   "source": [
    "#Exercise Five\n",
    "def funcion(lis):\n",
    "    retorno=[]\n",
    "    for i in lis:\n",
    "        if i%2!=0:\n",
    "            retorno.append(i)\n",
    "    return retorno\n",
    "lista= list(range(1, 21))\n",
    "print(funcion(lista))"
   ]
  },
  {
   "cell_type": "code",
   "execution_count": 4,
   "metadata": {},
   "outputs": [
    {
     "name": "stdout",
     "output_type": "stream",
     "text": [
      "[1, 2, 3, 4, 5, 6, 7, 8, 9, 10, 11, 12, 13, 14, 15, 16, 17, 18, 19, 20]\n",
      "[1, 4, 9, 16, 25, 36, 49, 64, 81, 100, 121, 144, 169, 196, 225, 256, 289, 324, 361, 400]\n"
     ]
    }
   ],
   "source": [
    "#Exercise Six\n",
    "def expo(lis,expo):\n",
    "    retorno=[]\n",
    "    for i in lis:\n",
    "        retorno.append(i**expo)\n",
    "    return retorno\n",
    "print(lista)\n",
    "print(expo(lista,2))"
   ]
  },
  {
   "cell_type": "code",
   "execution_count": 14,
   "metadata": {},
   "outputs": [
    {
     "name": "stdout",
     "output_type": "stream",
     "text": [
      "dict_items([(1, '1'), (2, 'a'), (3, '?')])\n"
     ]
    }
   ],
   "source": [
    "#Exercise Seven\n",
    "\n",
    "uno=[1,2,3,4]\n",
    "dos= [\"1\",\"a\",\"?\"]\n",
    "services={}\n",
    "for i in range(4):\n",
    "    key=uno[i]\n",
    "for j in range(3):\n",
    "    services[uno[j]] = dos[j]\n",
    "print(services.items())"
   ]
  },
  {
   "cell_type": "code",
   "execution_count": 23,
   "metadata": {},
   "outputs": [
    {
     "name": "stdout",
     "output_type": "stream",
     "text": [
      "zpam\n"
     ]
    }
   ],
   "source": [
    "#Exercise Eight\n",
    "\n",
    "spm = \"Spam\"\n",
    "print (spm.replace(spm[0], \"z\"))"
   ]
  },
  {
   "cell_type": "code",
   "execution_count": 25,
   "metadata": {},
   "outputs": [
    {
     "name": "stdout",
     "output_type": "stream",
     "text": [
      "20\n"
     ]
    }
   ],
   "source": [
    "#Exercise Nine\n",
    "\n",
    "def perimeterRectangle(a,b):\n",
    "    p = 2*a+2*b\n",
    "    return p\n",
    "print(perimeterRectangle(4,6))"
   ]
  },
  {
   "cell_type": "code",
   "execution_count": 50,
   "metadata": {},
   "outputs": [
    {
     "name": "stdout",
     "output_type": "stream",
     "text": [
      "25.0\n"
     ]
    }
   ],
   "source": [
    "#Exercise Ten\n",
    "import math \n",
    "\n",
    "class Person(object):\n",
    "    def __init__(self,h,w,n):\n",
    "        self.name = n\n",
    "        self.height = h\n",
    "        self.weight = w\n",
    "    \n",
    "    def BMI(self):\n",
    "        bmi = self.weight / (self.height*self.height)\n",
    "        return bmi\n",
    "manuel = Person(1.80,81,\"Manuel\")\n",
    "print(manuel.BMI())"
   ]
  },
  {
   "cell_type": "code",
   "execution_count": 8,
   "metadata": {},
   "outputs": [
    {
     "name": "stdout",
     "output_type": "stream",
     "text": [
      "whiz\n",
      "1\n",
      "whiz\n",
      "bang\n",
      "whiz\n",
      "5\n",
      "whiz\n",
      "7\n",
      "whiz\n",
      "bang\n",
      "whiz\n",
      "11\n",
      "whiz\n",
      "13\n",
      "whiz\n",
      "bang\n",
      "whiz\n",
      "17\n",
      "whiz\n",
      "19\n",
      "whiz\n",
      "bang\n",
      "whiz\n",
      "23\n",
      "whiz\n",
      "25\n",
      "whiz\n",
      "bang\n",
      "whiz\n",
      "29\n",
      "whiz\n",
      "31\n",
      "whiz\n",
      "bang\n",
      "whiz\n",
      "35\n",
      "whiz\n",
      "37\n",
      "whiz\n",
      "bang\n",
      "whiz\n",
      "41\n",
      "whiz\n",
      "43\n",
      "whiz\n",
      "bang\n",
      "whiz\n",
      "47\n",
      "whiz\n",
      "49\n",
      "whiz\n",
      "bang\n",
      "whiz\n",
      "53\n",
      "whiz\n",
      "55\n",
      "whiz\n",
      "bang\n",
      "whiz\n",
      "59\n",
      "whiz\n",
      "61\n",
      "whiz\n",
      "bang\n",
      "whiz\n",
      "65\n",
      "whiz\n",
      "67\n",
      "whiz\n",
      "bang\n",
      "whiz\n",
      "71\n",
      "whiz\n",
      "73\n",
      "whiz\n",
      "bang\n",
      "whiz\n",
      "77\n",
      "whiz\n",
      "79\n",
      "whiz\n",
      "bang\n",
      "whiz\n",
      "83\n",
      "whiz\n",
      "85\n",
      "whiz\n",
      "bang\n",
      "whiz\n",
      "89\n",
      "whiz\n",
      "91\n",
      "whiz\n",
      "bang\n",
      "whiz\n",
      "95\n",
      "whiz\n",
      "97\n",
      "whiz\n",
      "bang\n"
     ]
    }
   ],
   "source": [
    "#Exercise Eleven\n",
    "\n",
    "for i in range(100):\n",
    "    x = i\n",
    "    if x%2 == 0:\n",
    "        print('whiz')\n",
    "    elif x%3 == 0:\n",
    "        print('bang')\n",
    "    else:\n",
    "        print (x)\n",
    "\n"
   ]
  }
 ],
 "metadata": {
  "kernelspec": {
   "display_name": "Python 3",
   "language": "python",
   "name": "python3"
  },
  "language_info": {
   "codemirror_mode": {
    "name": "ipython",
    "version": 3
   },
   "file_extension": ".py",
   "mimetype": "text/x-python",
   "name": "python",
   "nbconvert_exporter": "python",
   "pygments_lexer": "ipython3",
   "version": "3.7.3"
  }
 },
 "nbformat": 4,
 "nbformat_minor": 2
}
